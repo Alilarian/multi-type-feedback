{
 "cells": [
  {
   "cell_type": "code",
   "execution_count": 1,
   "id": "105ee81b-a62d-4021-80dd-ee6d534b9d66",
   "metadata": {},
   "outputs": [
    {
     "name": "stderr",
     "output_type": "stream",
     "text": [
      "\u001b[34m\u001b[1mwandb\u001b[0m: Using wandb-core as the SDK backend. Please refer to https://wandb.me/wandb-core for more information.\n",
      "\u001b[34m\u001b[1mwandb\u001b[0m: Currently logged in as: \u001b[33mymetz\u001b[0m. Use \u001b[1m`wandb login --relogin`\u001b[0m to force relogin\n"
     ]
    },
    {
     "data": {
      "text/html": [
       "Tracking run with wandb version 0.18.1"
      ],
      "text/plain": [
       "<IPython.core.display.HTML object>"
      ]
     },
     "metadata": {},
     "output_type": "display_data"
    },
    {
     "data": {
      "text/html": [
       "Run data is saved locally in <code>/pfs/data5/home/kn/kn_kn/kn_pop257914/multi-type-feedback/mutli-type-feedback/notebooks/wandb/run-20241124_101322-b79i0thc</code>"
      ],
      "text/plain": [
       "<IPython.core.display.HTML object>"
      ]
     },
     "metadata": {},
     "output_type": "display_data"
    },
    {
     "data": {
      "text/html": [
       "Syncing run <strong><a href='https://wandb.ai/ymetz/your_project_name/runs/b79i0thc' target=\"_blank\">rose-dew-84</a></strong> to <a href='https://wandb.ai/ymetz/your_project_name' target=\"_blank\">Weights & Biases</a> (<a href='https://wandb.me/run' target=\"_blank\">docs</a>)<br/>"
      ],
      "text/plain": [
       "<IPython.core.display.HTML object>"
      ]
     },
     "metadata": {},
     "output_type": "display_data"
    },
    {
     "data": {
      "text/html": [
       " View project at <a href='https://wandb.ai/ymetz/your_project_name' target=\"_blank\">https://wandb.ai/ymetz/your_project_name</a>"
      ],
      "text/plain": [
       "<IPython.core.display.HTML object>"
      ]
     },
     "metadata": {},
     "output_type": "display_data"
    },
    {
     "data": {
      "text/html": [
       " View run at <a href='https://wandb.ai/ymetz/your_project_name/runs/b79i0thc' target=\"_blank\">https://wandb.ai/ymetz/your_project_name/runs/b79i0thc</a>"
      ],
      "text/plain": [
       "<IPython.core.display.HTML object>"
      ]
     },
     "metadata": {},
     "output_type": "display_data"
    }
   ],
   "source": [
    "import pandas as pd\n",
    "import wandb\n",
    "\n",
    "# Initialize wandb\n",
    "wandb.init(project=\"your_project_name\")\n",
    "\n",
    "# Fetch runs from your project\n",
    "api = wandb.Api()\n",
    "runs = api.runs(\"multi_reward_feedback_final_lul\", filters={\"display_name\": {\"$regex\": \"^RL_.*\"}})"
   ]
  },
  {
   "cell_type": "code",
   "execution_count": 9,
   "id": "8516eb46-50d9-4978-955e-b6ab46c474ef",
   "metadata": {},
   "outputs": [],
   "source": [
    "# Create a list to store data from filtered runs\n",
    "filtered_run_data = []\n",
    "\n",
    "# Iterate through the runs\n",
    "for run in runs:\n",
    "    # Check if the run name starts with \"ppo_\"\n",
    "    if run.name.startswith(\"RL_\") and \"noise\" not in run.name and \"ensemble\" not in run.name:\n",
    "        # Get the summary statistics (includes final values of metrics)\n",
    "        summary = run.summary._json_dict\n",
    "\n",
    "        # Get the history (includes all logged metrics)\n",
    "        history = run.history(keys=[\"eval/mean_reward\", \"global_step\"])\n",
    "        #history = run.history(keys=[\"rollout/ep_rew_mean\", \"global_step\"])\n",
    "\n",
    "        # Combine summary and history data\n",
    "        run_data = {\n",
    "            \"run_id\": run.id,\n",
    "            \"run_name\": run.name,\n",
    "            **summary,\n",
    "            **{f\"{k}_history\": v.tolist() for k, v in history.items()}\n",
    "        }\n",
    "\n",
    "        filtered_run_data.append(run_data)\n",
    "\n",
    "# Create a DataFrame from filtered run data\n",
    "orig_df = pd.DataFrame(filtered_run_data)"
   ]
  },
  {
   "cell_type": "code",
   "execution_count": 6,
   "id": "e45d00d2-d2b0-48d5-a58e-44fbab4c0f23",
   "metadata": {},
   "outputs": [
    {
     "data": {
      "text/plain": [
       "Index(['run_id', 'run_name', '_runtime', '_step', '_timestamp', '_wandb',\n",
       "       'eval/mean_ep_length', 'eval/mean_reward', 'global_step',\n",
       "       'rollout/ep_len_mean', 'rollout/ep_rew_mean', 'time/fps',\n",
       "       'train/approx_kl', 'train/clip_fraction', 'train/clip_range',\n",
       "       'train/entropy_loss', 'train/explained_variance', 'train/learning_rate',\n",
       "       'train/loss', 'train/policy_gradient_loss', 'train/std',\n",
       "       'train/value_loss', '_step_history', 'rollout/ep_rew_mean_history',\n",
       "       'global_step_history', 'train/actor_loss', 'train/critic_loss',\n",
       "       'train/ent_coef', 'train/ent_coef_loss', 'eval/success_rate'],\n",
       "      dtype='object')"
      ]
     },
     "execution_count": 6,
     "metadata": {},
     "output_type": "execute_result"
    }
   ],
   "source": [
    "orig_df.columns"
   ]
  },
  {
   "cell_type": "code",
   "execution_count": 10,
   "id": "a602d039-ad57-4472-a062-59bda636ce3c",
   "metadata": {},
   "outputs": [
    {
     "name": "stderr",
     "output_type": "stream",
     "text": [
      "/scratch/slurm_tmpdir/job_24831943/ipykernel_183759/3787583064.py:90: RuntimeWarning: Mean of empty slice\n",
      "  mean_loss = np.nanmean(all_losses, axis=0)\n",
      "/opt/bwhpc/common/jupyter/base/2023-10-10/lib/python3.9/site-packages/numpy/lib/nanfunctions.py:1879: RuntimeWarning: Degrees of freedom <= 0 for slice.\n",
      "  var = nanvar(a, axis=axis, dtype=dtype, out=out, ddof=ddof,\n",
      "/scratch/slurm_tmpdir/job_24831943/ipykernel_183759/3787583064.py:95: RuntimeWarning: Mean of empty slice\n",
      "  steps = np.nanmean(all_steps, axis=0)\n"
     ]
    },
    {
     "name": "stdout",
     "output_type": "stream",
     "text": [
      "Reward plot for Swimmer-v5 environment has been saved to rl_reward_curves_Swimmer-v5.png\n"
     ]
    },
    {
     "name": "stderr",
     "output_type": "stream",
     "text": [
      "/scratch/slurm_tmpdir/job_24831943/ipykernel_183759/3787583064.py:90: RuntimeWarning: Mean of empty slice\n",
      "  mean_loss = np.nanmean(all_losses, axis=0)\n",
      "/opt/bwhpc/common/jupyter/base/2023-10-10/lib/python3.9/site-packages/numpy/lib/nanfunctions.py:1879: RuntimeWarning: Degrees of freedom <= 0 for slice.\n",
      "  var = nanvar(a, axis=axis, dtype=dtype, out=out, ddof=ddof,\n",
      "/scratch/slurm_tmpdir/job_24831943/ipykernel_183759/3787583064.py:95: RuntimeWarning: Mean of empty slice\n",
      "  steps = np.nanmean(all_steps, axis=0)\n"
     ]
    },
    {
     "name": "stdout",
     "output_type": "stream",
     "text": [
      "Reward plot for HalfCheetah-v5 environment has been saved to rl_reward_curves_HalfCheetah-v5.png\n"
     ]
    },
    {
     "name": "stderr",
     "output_type": "stream",
     "text": [
      "/scratch/slurm_tmpdir/job_24831943/ipykernel_183759/3787583064.py:90: RuntimeWarning: Mean of empty slice\n",
      "  mean_loss = np.nanmean(all_losses, axis=0)\n",
      "/opt/bwhpc/common/jupyter/base/2023-10-10/lib/python3.9/site-packages/numpy/lib/nanfunctions.py:1879: RuntimeWarning: Degrees of freedom <= 0 for slice.\n",
      "  var = nanvar(a, axis=axis, dtype=dtype, out=out, ddof=ddof,\n",
      "/scratch/slurm_tmpdir/job_24831943/ipykernel_183759/3787583064.py:95: RuntimeWarning: Mean of empty slice\n",
      "  steps = np.nanmean(all_steps, axis=0)\n"
     ]
    },
    {
     "name": "stdout",
     "output_type": "stream",
     "text": [
      "Reward plot for Ant-v5 environment has been saved to rl_reward_curves_Ant-v5.png\n"
     ]
    },
    {
     "name": "stderr",
     "output_type": "stream",
     "text": [
      "/scratch/slurm_tmpdir/job_24831943/ipykernel_183759/3787583064.py:90: RuntimeWarning: Mean of empty slice\n",
      "  mean_loss = np.nanmean(all_losses, axis=0)\n",
      "/opt/bwhpc/common/jupyter/base/2023-10-10/lib/python3.9/site-packages/numpy/lib/nanfunctions.py:1879: RuntimeWarning: Degrees of freedom <= 0 for slice.\n",
      "  var = nanvar(a, axis=axis, dtype=dtype, out=out, ddof=ddof,\n",
      "/scratch/slurm_tmpdir/job_24831943/ipykernel_183759/3787583064.py:95: RuntimeWarning: Mean of empty slice\n",
      "  steps = np.nanmean(all_steps, axis=0)\n"
     ]
    },
    {
     "name": "stdout",
     "output_type": "stream",
     "text": [
      "Reward plot for Humanoid-v5 environment has been saved to rl_reward_curves_Humanoid-v5.png\n"
     ]
    },
    {
     "name": "stderr",
     "output_type": "stream",
     "text": [
      "/scratch/slurm_tmpdir/job_24831943/ipykernel_183759/3787583064.py:90: RuntimeWarning: Mean of empty slice\n",
      "  mean_loss = np.nanmean(all_losses, axis=0)\n",
      "/opt/bwhpc/common/jupyter/base/2023-10-10/lib/python3.9/site-packages/numpy/lib/nanfunctions.py:1879: RuntimeWarning: Degrees of freedom <= 0 for slice.\n",
      "  var = nanvar(a, axis=axis, dtype=dtype, out=out, ddof=ddof,\n",
      "/scratch/slurm_tmpdir/job_24831943/ipykernel_183759/3787583064.py:95: RuntimeWarning: Mean of empty slice\n",
      "  steps = np.nanmean(all_steps, axis=0)\n"
     ]
    },
    {
     "name": "stdout",
     "output_type": "stream",
     "text": [
      "Reward plot for Hopper-v5 environment has been saved to rl_reward_curves_Hopper-v5.png\n"
     ]
    },
    {
     "name": "stderr",
     "output_type": "stream",
     "text": [
      "/scratch/slurm_tmpdir/job_24831943/ipykernel_183759/3787583064.py:90: RuntimeWarning: Mean of empty slice\n",
      "  mean_loss = np.nanmean(all_losses, axis=0)\n",
      "/opt/bwhpc/common/jupyter/base/2023-10-10/lib/python3.9/site-packages/numpy/lib/nanfunctions.py:1879: RuntimeWarning: Degrees of freedom <= 0 for slice.\n",
      "  var = nanvar(a, axis=axis, dtype=dtype, out=out, ddof=ddof,\n",
      "/scratch/slurm_tmpdir/job_24831943/ipykernel_183759/3787583064.py:95: RuntimeWarning: Mean of empty slice\n",
      "  steps = np.nanmean(all_steps, axis=0)\n"
     ]
    },
    {
     "name": "stdout",
     "output_type": "stream",
     "text": [
      "Reward plot for Walker2d-v5 environment has been saved to rl_reward_curves_Walker2d-v5.png\n"
     ]
    },
    {
     "name": "stderr",
     "output_type": "stream",
     "text": [
      "/scratch/slurm_tmpdir/job_24831943/ipykernel_183759/3787583064.py:90: RuntimeWarning: Mean of empty slice\n",
      "  mean_loss = np.nanmean(all_losses, axis=0)\n",
      "/opt/bwhpc/common/jupyter/base/2023-10-10/lib/python3.9/site-packages/numpy/lib/nanfunctions.py:1879: RuntimeWarning: Degrees of freedom <= 0 for slice.\n",
      "  var = nanvar(a, axis=axis, dtype=dtype, out=out, ddof=ddof,\n",
      "/scratch/slurm_tmpdir/job_24831943/ipykernel_183759/3787583064.py:95: RuntimeWarning: Mean of empty slice\n",
      "  steps = np.nanmean(all_steps, axis=0)\n"
     ]
    },
    {
     "name": "stdout",
     "output_type": "stream",
     "text": [
      "Reward plot for metaworld-button-press-v2 environment has been saved to rl_reward_curves_metaworld-button-press-v2.png\n"
     ]
    },
    {
     "name": "stderr",
     "output_type": "stream",
     "text": [
      "/scratch/slurm_tmpdir/job_24831943/ipykernel_183759/3787583064.py:90: RuntimeWarning: Mean of empty slice\n",
      "  mean_loss = np.nanmean(all_losses, axis=0)\n",
      "/opt/bwhpc/common/jupyter/base/2023-10-10/lib/python3.9/site-packages/numpy/lib/nanfunctions.py:1879: RuntimeWarning: Degrees of freedom <= 0 for slice.\n",
      "  var = nanvar(a, axis=axis, dtype=dtype, out=out, ddof=ddof,\n",
      "/scratch/slurm_tmpdir/job_24831943/ipykernel_183759/3787583064.py:95: RuntimeWarning: Mean of empty slice\n",
      "  steps = np.nanmean(all_steps, axis=0)\n"
     ]
    },
    {
     "name": "stdout",
     "output_type": "stream",
     "text": [
      "Reward plot for metaworld-sweep-into-v2 environment has been saved to rl_reward_curves_metaworld-sweep-into-v2.png\n"
     ]
    },
    {
     "name": "stderr",
     "output_type": "stream",
     "text": [
      "/scratch/slurm_tmpdir/job_24831943/ipykernel_183759/3787583064.py:90: RuntimeWarning: Mean of empty slice\n",
      "  mean_loss = np.nanmean(all_losses, axis=0)\n",
      "/opt/bwhpc/common/jupyter/base/2023-10-10/lib/python3.9/site-packages/numpy/lib/nanfunctions.py:1879: RuntimeWarning: Degrees of freedom <= 0 for slice.\n",
      "  var = nanvar(a, axis=axis, dtype=dtype, out=out, ddof=ddof,\n",
      "/scratch/slurm_tmpdir/job_24831943/ipykernel_183759/3787583064.py:95: RuntimeWarning: Mean of empty slice\n",
      "  steps = np.nanmean(all_steps, axis=0)\n"
     ]
    },
    {
     "name": "stdout",
     "output_type": "stream",
     "text": [
      "Reward plot for metaworld-pick-place-v2 environment has been saved to rl_reward_curves_metaworld-pick-place-v2.png\n",
      "Reward plot for merge-v0 environment has been saved to rl_reward_curves_merge-v0.png\n",
      "Reward plot for highway-fast-v0 environment has been saved to rl_reward_curves_highway-fast-v0.png\n",
      "Reward plot for roundabout-v0 environment has been saved to rl_reward_curves_roundabout-v0.png\n"
     ]
    }
   ],
   "source": [
    "from bisect import bisect_left\n",
    "from collections import OrderedDict, defaultdict\n",
    "\n",
    "import matplotlib.pyplot as plt\n",
    "import numpy as np\n",
    "import pandas as pd\n",
    "from matplotlib.colors import hex2color, rgb2hex\n",
    "from scipy.ndimage import gaussian_filter1d\n",
    "\n",
    "\n",
    "def generate_muted_colors(hex_color, num_colors=10, mute_factor=0.5):\n",
    "    rgb = hex2color(hex_color)\n",
    "    muted_colors = []\n",
    "    for i in range(num_colors):\n",
    "        muted_rgb = tuple(c + (1 - c) * mute_factor for c in rgb)\n",
    "        muted_hex = rgb2hex(muted_rgb)\n",
    "        muted_colors.append(muted_hex)\n",
    "    return muted_colors\n",
    "\n",
    "df = orig_df.copy()\n",
    "\n",
    "#score_field = \"rollout/ep_rew_mean_history\"\n",
    "score_field = \"eval/mean_reward_history\"\n",
    "\n",
    "# Function to extract environment and feedback type from run name\n",
    "def extract_info(run_name):\n",
    "    parts = run_name.split('_')\n",
    "    return parts[2], parts[-2]\n",
    "\n",
    "# Function to interpolate NaN values in a series\n",
    "def interpolate_nans(series):\n",
    "    return pd.Series(series).interpolate().ffill().bfill().values\n",
    "\n",
    "# Group runs by environment and feedback type\n",
    "grouped_runs = defaultdict(lambda: defaultdict(list))\n",
    "for _, row in df.iterrows():\n",
    "    env, feedback = extract_info(row['run_name'])\n",
    "    # Convert string \"nan\" to np.nan and other values to float\n",
    "    if isinstance(row[score_field], float):\n",
    "        continue\n",
    "    row[score_field] = [np.nan if x == \"nan\" else x for x in row[score_field]]\n",
    "    # Interpolate NaN values in val_loss_history\n",
    "    row[score_field] = interpolate_nans(row[score_field])\n",
    "    grouped_runs[env][feedback].append(row)\n",
    "\n",
    "# Read the CSV file with evaluation scores\n",
    "eval_df = pd.read_csv(\"../../main/gt_agents/collected_results.csv\")\n",
    "\n",
    "# Define a color scale for feedback types\n",
    "color_scale = OrderedDict([\n",
    "    ('evaluative', '#1f77b4'),     # blue\n",
    "    ('comparative', '#ff7f0e'),    # orange\n",
    "    ('demonstrative', '#2ca02c'),  # green\n",
    "    ('corrective', '#d62728'),     # red\n",
    "    ('descriptive', '#9467bd'),    # purple\n",
    "    ('preference', '#8c564b'),  # brown\n",
    "])\n",
    "# Plotting function\n",
    "def plot_environment(env, feedback_runs):\n",
    "    plt.figure(figsize=(15, 10))\n",
    "    \n",
    "    # Increase font size for all text elements\n",
    "    plt.rcParams.update({'font.size': 18})  # Adjust this value as needed\n",
    "    \n",
    "    for feedback in color_scale.keys():\n",
    "        if feedback not in feedback_runs:\n",
    "            continue  # Skip if this feedback type is not present for this environment\n",
    "        \n",
    "        runs = feedback_runs[feedback]\n",
    "        color = color_scale.get(feedback, '#7f7f7f')  # Default to gray if feedback type not in scale\n",
    "        muted_colors = generate_muted_colors(color)\n",
    "        \n",
    "        # Find the maximum length of steps\n",
    "        max_steps = max(len(run['global_step_history']) for run in runs)\n",
    "        \n",
    "        # Initialize arrays for losses and steps\n",
    "        all_losses = np.full((len(runs), max_steps), np.nan)\n",
    "        all_steps = np.full((len(runs), max_steps), np.nan)\n",
    "        \n",
    "        # Fill the arrays with available data\n",
    "        for i, run in enumerate(runs):\n",
    "            length = len(run['global_step_history'])\n",
    "            length = bisect_left(run['global_step_history'], int(1e6))\n",
    "            all_losses[i, :length] = run[score_field][:length]\n",
    "            all_steps[i, :length] = run['global_step_history'][:length]\n",
    "\n",
    "            #smoothed_scores =  gaussian_filter1d(run[score_field], sigma=2)\n",
    "            #plt.plot(run['global_step_history'], smoothed_scores, color=muted_colors[i], linewidth=1.5) \n",
    "\n",
    "\n",
    "        # Calculate statistics\n",
    "        mean_loss = np.nanmean(all_losses, axis=0)\n",
    "        min_loss = mean_loss - np.nanstd(all_losses, axis=0)\n",
    "        max_loss = mean_loss + np.nanstd(all_losses, axis=0)\n",
    "        \n",
    "        # Use the mean of steps for x-axis (ignoring NaNs)\n",
    "        steps = np.nanmean(all_steps, axis=0)\n",
    "        \n",
    "        # Remove NaN entries\n",
    "        valid = ~np.isnan(mean_loss)\n",
    "        steps = steps[valid]\n",
    "        mean_loss = mean_loss[valid]\n",
    "        min_loss = min_loss[valid]\n",
    "        max_loss = max_loss[valid]\n",
    "\n",
    "        display_feedback = feedback\n",
    "        if display_feedback == \"preference\":\n",
    "            display_feedback = \"descriptive Preferences\"\n",
    "        plt.plot(steps, mean_loss, label=f\"{display_feedback.capitalize()}\", color=color, linewidth=3.0)\n",
    "        plt.fill_between(steps, min_loss, max_loss, alpha=0.2, color=color)\n",
    "\n",
    "    # Filter eval scores for the current environment\n",
    "    env_eval_scores = eval_df[eval_df['env'] == env]\n",
    "    \n",
    "    # Sort and select the best four scores\n",
    "    best_scores = env_eval_scores.nlargest(4, 'eval_score')\n",
    "    \n",
    "    # Calculate statistics for the best scores\n",
    "    mean_score = best_scores['eval_score'].mean()\n",
    "    min_score = best_scores['eval_score'].min()\n",
    "    max_score = best_scores['eval_score'].max()\n",
    "    \n",
    "    # Plot evaluation scores as horizontal lines with updated styles\n",
    "    plt.axhline(y=mean_score, color='grey', linewidth=3.5)\n",
    "    plt.axhline(y=min_score, color='grey', linestyle='--', linewidth=2.5)\n",
    "    plt.axhline(y=max_score, color='grey', linestyle='--', linewidth=2.5)\n",
    "    \n",
    "    #plt.title(f\"Episode Reward for {env.capitalize()} Environment\", fontsize=20)\n",
    "    plt.xlabel(\"Env. Steps\", fontsize=18)\n",
    "    plt.ylabel(\"Episode Rew.\", fontsize=18)\n",
    "    plt.legend()\n",
    "    #plt.grid(True)\n",
    "    # Use log scale for y-axis if the range of values is large\n",
    "    #if np.nanmax(mean_loss) / np.nanmin(mean_loss[np.isfinite(mean_loss)]) > 100:\n",
    "    #    plt.yscale('log')\n",
    "    plt.tight_layout()\n",
    "    plt.savefig(f\"rl_reward_curves_{env}.png\")\n",
    "    plt.close()\n",
    "    print(f\"Reward plot for {env} environment has been saved to rl_reward_curves_{env}.png\")\n",
    "\n",
    "# Create plots for each environment\n",
    "for env, feedback_runs in grouped_runs.items():\n",
    "    plot_environment(env, feedback_runs)"
   ]
  }
 ],
 "metadata": {
  "kernelspec": {
   "display_name": "rlhf-env",
   "language": "python",
   "name": "rlhf-env"
  },
  "language_info": {
   "codemirror_mode": {
    "name": "ipython",
    "version": 3
   },
   "file_extension": ".py",
   "mimetype": "text/x-python",
   "name": "python",
   "nbconvert_exporter": "python",
   "pygments_lexer": "ipython3",
   "version": "3.9.16"
  }
 },
 "nbformat": 4,
 "nbformat_minor": 5
}
