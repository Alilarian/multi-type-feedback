{
 "cells": [
  {
   "cell_type": "code",
   "execution_count": 1,
   "id": "105ee81b-a62d-4021-80dd-ee6d534b9d66",
   "metadata": {},
   "outputs": [
    {
     "name": "stderr",
     "output_type": "stream",
     "text": [
      "Failed to detect the name of this notebook, you can set it manually with the WANDB_NOTEBOOK_NAME environment variable to enable code saving.\n",
      "\u001b[34m\u001b[1mwandb\u001b[0m: Currently logged in as: \u001b[33mymetz\u001b[0m. Use \u001b[1m`wandb login --relogin`\u001b[0m to force relogin\n"
     ]
    },
    {
     "data": {
      "text/html": [
       "wandb version 0.18.2 is available!  To upgrade, please run:\n",
       " $ pip install wandb --upgrade"
      ],
      "text/plain": [
       "<IPython.core.display.HTML object>"
      ]
     },
     "metadata": {},
     "output_type": "display_data"
    },
    {
     "data": {
      "text/html": [
       "Tracking run with wandb version 0.17.7"
      ],
      "text/plain": [
       "<IPython.core.display.HTML object>"
      ]
     },
     "metadata": {},
     "output_type": "display_data"
    },
    {
     "data": {
      "text/html": [
       "Run data is saved locally in <code>/home/metz/iclr_multi_feedback/rlhf/wandb/run-20241001_171018-jghmyfx0</code>"
      ],
      "text/plain": [
       "<IPython.core.display.HTML object>"
      ]
     },
     "metadata": {},
     "output_type": "display_data"
    },
    {
     "data": {
      "text/html": [
       "Syncing run <strong><a href='https://wandb.ai/ymetz/your_project_name/runs/jghmyfx0' target=\"_blank\">blooming-rain-16</a></strong> to <a href='https://wandb.ai/ymetz/your_project_name' target=\"_blank\">Weights & Biases</a> (<a href='https://wandb.me/run' target=\"_blank\">docs</a>)<br/>"
      ],
      "text/plain": [
       "<IPython.core.display.HTML object>"
      ]
     },
     "metadata": {},
     "output_type": "display_data"
    },
    {
     "data": {
      "text/html": [
       " View project at <a href='https://wandb.ai/ymetz/your_project_name' target=\"_blank\">https://wandb.ai/ymetz/your_project_name</a>"
      ],
      "text/plain": [
       "<IPython.core.display.HTML object>"
      ]
     },
     "metadata": {},
     "output_type": "display_data"
    },
    {
     "data": {
      "text/html": [
       " View run at <a href='https://wandb.ai/ymetz/your_project_name/runs/jghmyfx0' target=\"_blank\">https://wandb.ai/ymetz/your_project_name/runs/jghmyfx0</a>"
      ],
      "text/plain": [
       "<IPython.core.display.HTML object>"
      ]
     },
     "metadata": {},
     "output_type": "display_data"
    }
   ],
   "source": [
    "import wandb\n",
    "import pandas as pd\n",
    "\n",
    "# Initialize wandb\n",
    "wandb.init(project=\"your_project_name\")\n",
    "\n",
    "# Fetch runs from your project\n",
    "api = wandb.Api()\n",
    "runs = api.runs(\"multi_reward_feedback_final\")\n",
    "\n",
    "# Create a list to store data from filtered runs\n",
    "filtered_run_data = []\n",
    "\n",
    "# Iterate through the runs\n",
    "for run in runs:\n",
    "    # Check if the run name starts with \"ppo_\"\n",
    "    if run.name.startswith(\"ppo_\") or run.name.startswith(\"sac_\") and \"noise\" not in run.name:\n",
    "        # Get the summary statistics (includes final values of metrics)\n",
    "        summary = run.summary._json_dict\n",
    "\n",
    "        # Get the history (includes all logged metrics)\n",
    "        history = run.history()\n",
    "\n",
    "        # Combine summary and history data\n",
    "        run_data = {\n",
    "            \"run_id\": run.id,\n",
    "            \"run_name\": run.name,\n",
    "            **summary,\n",
    "            **{f\"{k}_history\": v.tolist() for k, v in history.items()}\n",
    "        }\n",
    "\n",
    "        filtered_run_data.append(run_data)\n",
    "\n",
    "# Create a DataFrame from filtered run data\n",
    "df = pd.DataFrame(filtered_run_data)"
   ]
  },
  {
   "cell_type": "code",
   "execution_count": 9,
   "id": "a602d039-ad57-4472-a062-59bda636ce3c",
   "metadata": {},
   "outputs": [
    {
     "name": "stdout",
     "output_type": "stream",
     "text": [
      "evaluative\n",
      "Loss curves for evaluative feedback have been saved to loss_curves_evaluative.png\n",
      "comparative\n",
      "Loss curves for comparative feedback have been saved to loss_curves_comparative.png\n",
      "demonstrative\n",
      "Loss curves for demonstrative feedback have been saved to loss_curves_demonstrative.png\n",
      "corrective\n",
      "Loss curves for corrective feedback have been saved to loss_curves_corrective.png\n",
      "descriptive\n",
      "Loss curves for descriptive feedback have been saved to loss_curves_descriptive.png\n",
      "descriptive_preference\n"
     ]
    },
    {
     "name": "stderr",
     "output_type": "stream",
     "text": [
      "/tmp/ipykernel_474485/1852849602.py:87: UserWarning: No artists with labels found to put in legend.  Note that artists whose label start with an underscore are ignored when legend() is called with no argument.\n",
      "  plt.legend()\n"
     ]
    },
    {
     "name": "stdout",
     "output_type": "stream",
     "text": [
      "Loss curves for descriptive_preference feedback have been saved to loss_curves_descriptive_preference.png\n"
     ]
    }
   ],
   "source": [
    "import pandas as pd\n",
    "import numpy as np\n",
    "import matplotlib.pyplot as plt\n",
    "from collections import defaultdict\n",
    "\n",
    "# Function to extract environment and feedback type from run name\n",
    "def extract_info(run_name):\n",
    "    parts = run_name.split('_')\n",
    "    return parts[1], parts[-2]\n",
    "\n",
    "# Function to interpolate NaN values in a series\n",
    "def interpolate_nans(series):\n",
    "    return pd.Series(series).interpolate().ffill().bfill().values\n",
    "\n",
    "# Group runs by feedback type and environment\n",
    "grouped_runs = defaultdict(lambda: defaultdict(list))\n",
    "for _, row in df.iterrows():\n",
    "    env, feedback = extract_info(row['run_name'])\n",
    "    # Convert string \"nan\" to np.nan and other values to float\n",
    "    if isinstance(row['val_loss_history'], float):\n",
    "        continue\n",
    "    row['val_loss_history'] = [np.nan if x == \"nan\" else x for x in row['val_loss_history']]\n",
    "    # Interpolate NaN values in val_loss_history\n",
    "    row['val_loss_history'] = interpolate_nans(row['val_loss_history'])\n",
    "    grouped_runs[feedback][env].append(row)\n",
    "\n",
    "# Plotting function\n",
    "def plot_feedback_type(feedback, env_runs):\n",
    "    plt.figure(figsize=(15, 10))\n",
    "    \n",
    "    # Increase font size for all text elements\n",
    "    plt.rcParams.update({'font.size': 16})  # Adjust this value as needed\n",
    "    \n",
    "    for env, runs in env_runs.items():\n",
    "\n",
    "        if env == \"Humanoid-v5\":\n",
    "            continue\n",
    "        # Find the maximum length of steps\n",
    "        max_steps = max(len(run['_step_history']) for run in runs)\n",
    "        \n",
    "        # Initialize arrays for losses and steps\n",
    "        all_losses = np.full((len(runs), max_steps), np.nan)\n",
    "        all_steps = np.full((len(runs), max_steps), np.nan)\n",
    "        \n",
    "        # Fill the arrays with available data\n",
    "        for i, run in enumerate(runs):\n",
    "            length = len(run['_step_history'])\n",
    "            all_losses[i, :length] = run['val_loss_history']\n",
    "            all_steps[i, :length] = run['_step_history']\n",
    "        \n",
    "        # Calculate statistics\n",
    "        mean_loss = np.nanmean(all_losses, axis=0)\n",
    "        min_loss = np.nanmin(all_losses, axis=0)\n",
    "        max_loss = np.nanmax(all_losses, axis=0)\n",
    "        \n",
    "        # Use the mean of steps for x-axis (ignoring NaNs)\n",
    "        steps = np.nanmean(all_steps, axis=0)\n",
    "        \n",
    "        # Remove NaN entries\n",
    "        valid = ~np.isnan(mean_loss)\n",
    "        steps = steps[valid]\n",
    "        mean_loss = mean_loss[valid]\n",
    "        min_loss = min_loss[valid]\n",
    "        max_loss = max_loss[valid]\n",
    "        \n",
    "        plt.plot(steps, mean_loss, label=f\"{env}\")\n",
    "        plt.fill_between(steps, min_loss, max_loss, alpha=0.2)\n",
    "\n",
    "    display_feedback = feedback\n",
    "    print(display_feedback)\n",
    "    if display_feedback == \"preference\":\n",
    "        display_feedback = \"descriptive Preference\"\n",
    "    plt.title(f\"Reward Model: Validation Loss Curves for {display_feedback.capitalize()} Feedback\", fontsize=20)\n",
    "    plt.xlabel(\"Steps\", fontsize=18)\n",
    "    plt.ylabel(\"Validation Loss\", fontsize=18)\n",
    "    plt.legend()\n",
    "    plt.grid(True)\n",
    "\n",
    "    # Use log scale for y-axis if the range of values is large\n",
    "    if display_feedback == \"evaluative\" or display_feedback == \"descriptive\" and np.nanmax(mean_loss) / np.nanmin(mean_loss[np.isfinite(mean_loss)]) > 100:\n",
    "        plt.yscale('log')\n",
    "\n",
    "    plt.tight_layout()\n",
    "    plt.savefig(f\"loss_curves_{feedback}.png\")\n",
    "    plt.close()\n",
    "\n",
    "    print(f\"Loss curves for {feedback} feedback have been saved to loss_curves_{feedback}.png\")\n",
    "\n",
    "# Create plots for each feedback type\n",
    "for feedback, env_runs in grouped_runs.items():\n",
    "    plot_feedback_type(feedback, env_runs)"
   ]
  },
  {
   "cell_type": "code",
   "execution_count": 3,
   "id": "bff07620-22c9-489a-8838-99852d80149a",
   "metadata": {},
   "outputs": [
    {
     "ename": "NameError",
     "evalue": "name 'all_rews' is not defined",
     "output_type": "error",
     "traceback": [
      "\u001b[0;31m---------------------------------------------------------------------------\u001b[0m",
      "\u001b[0;31mNameError\u001b[0m                                 Traceback (most recent call last)",
      "Cell \u001b[0;32mIn[3], line 31\u001b[0m\n\u001b[1;32m     29\u001b[0m     obs \u001b[38;5;241m=\u001b[39m np\u001b[38;5;241m.\u001b[39marray([s[\u001b[38;5;241m0\u001b[39m]\u001b[38;5;241m.\u001b[39msqueeze(\u001b[38;5;241m0\u001b[39m) \u001b[38;5;28;01mfor\u001b[39;00m s \u001b[38;5;129;01min\u001b[39;00m seg])\n\u001b[1;32m     30\u001b[0m     all_obs\u001b[38;5;241m.\u001b[39mappend(obs)\n\u001b[0;32m---> 31\u001b[0m     all_rews\u001b[38;5;241m.\u001b[39mappend([s[\u001b[38;5;241m2\u001b[39m] \u001b[38;5;28;01mfor\u001b[39;00m s \u001b[38;5;129;01min\u001b[39;00m seg])\n\u001b[1;32m     33\u001b[0m observation \u001b[38;5;241m=\u001b[39m np\u001b[38;5;241m.\u001b[39mconcatenate(all_obs, axis\u001b[38;5;241m=\u001b[39m\u001b[38;5;241m0\u001b[39m)\n\u001b[1;32m     35\u001b[0m \u001b[38;5;28;01mif\u001b[39;00m norm_env \u001b[38;5;129;01mis\u001b[39;00m \u001b[38;5;129;01mnot\u001b[39;00m \u001b[38;5;28;01mNone\u001b[39;00m:\n",
      "\u001b[0;31mNameError\u001b[0m: name 'all_rews' is not defined"
     ]
    }
   ],
   "source": [
    "import pickle as pkl\n",
    "import numpy as np\n",
    "from rlhf.networks import LightningNetwork\n",
    "\n",
    "with open(\"feedback/ppo_HalfCheetah-v5_1337.pkl\", \"rb\") as file:\n",
    "    data = pkl.load(file)\n",
    "\n",
    "all_obs = []\n",
    "for idx, seg in enumerate(data[\"segments\"]):\n",
    "    obs = np.array([np.concatenate((s[0].squeeze(0),s[1])) for s in seg])\n",
    "    all_obs.append(obs)\n",
    "states = np.concatenate(all_obs, axis=0)\n",
    "\n",
    "import gymnasium as gym\n",
    "import os\n",
    "import torch\n",
    "\n",
    "env_name = \"HalfCheetah-v5\"\n",
    "environment = gym.make(env_name)\n",
    "\n",
    "reward_model_path = \"reward_models/ppo_HalfCheetah-v5_12_evaluative_12.ckpt\"\n",
    "reward_net = LightningNetwork.load_from_checkpoint(\n",
    "            reward_model_path,\n",
    "            map_location=\"cuda:0\"\n",
    "        )\n",
    "\n",
    "all_obs = []\n",
    "for idx, seg in enumerate(data[\"segments\"]):\n",
    "    obs = np.array([s[0].squeeze(0) for s in seg])\n",
    "    all_obs.append(obs)\n",
    "    all_rews.append([s[2] for s in seg])\n",
    "    \n",
    "observation = np.concatenate(all_obs, axis=0)\n",
    "\n",
    "if norm_env is not None:\n",
    "    observation = norm_env.normalize_obs(observation)\n",
    "\n",
    "observation = expert_model.policy.obs_to_tensor(observation)[0]\n",
    "with torch.no_grad():\n",
    "    pred_rews = reward_net(observation)"
   ]
  }
 ],
 "metadata": {
  "kernelspec": {
   "display_name": "rlhfblender",
   "language": "python",
   "name": "rlhfblender"
  },
  "language_info": {
   "codemirror_mode": {
    "name": "ipython",
    "version": 3
   },
   "file_extension": ".py",
   "mimetype": "text/x-python",
   "name": "python",
   "nbconvert_exporter": "python",
   "pygments_lexer": "ipython3",
   "version": "3.12.3"
  }
 },
 "nbformat": 4,
 "nbformat_minor": 5
}
