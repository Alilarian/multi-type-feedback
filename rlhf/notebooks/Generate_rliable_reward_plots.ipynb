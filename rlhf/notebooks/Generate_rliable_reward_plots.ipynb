{
 "cells": [
  {
   "cell_type": "code",
   "execution_count": 1,
   "id": "fdd238df-76e4-49e1-99ba-8fcd277c97de",
   "metadata": {},
   "outputs": [],
   "source": [
    "import rliable"
   ]
  },
  {
   "cell_type": "code",
   "execution_count": 2,
   "id": "08b6a2bf-4a23-409a-a460-8520aabc7c8b",
   "metadata": {},
   "outputs": [],
   "source": [
    "from rliable import library as rly\n",
    "from rliable import metrics\n",
    "from rliable import plot_utils\n",
    "import numpy as np\n",
    "import scipy.stats as st"
   ]
  },
  {
   "cell_type": "code",
   "execution_count": 3,
   "id": "041f1912-2a90-465b-817c-c3d896e2d8ff",
   "metadata": {},
   "outputs": [],
   "source": [
    "#@title Plotting: Seaborn style and matplotlib params\n",
    "import matplotlib.pyplot as plt\n",
    "from matplotlib.ticker import PercentFormatter\n",
    "from matplotlib.ticker import MaxNLocator\n",
    "import matplotlib.patches as mpatches\n",
    "import seaborn as sns\n",
    "\n",
    "sns.set_style(\"white\")\n",
    "\n",
    "# Matplotlib params\n",
    "from matplotlib import rcParams\n",
    "from matplotlib import rc\n",
    "\n",
    "rcParams['legend.loc'] = 'best'\n",
    "rcParams['pdf.fonttype'] = 42\n",
    "rcParams['ps.fonttype'] = 42\n",
    "\n",
    "rc('text', usetex=False)"
   ]
  },
  {
   "cell_type": "code",
   "execution_count": 4,
   "id": "a3bb2ecf-f245-4ad2-9dce-f97d13a2269b",
   "metadata": {},
   "outputs": [],
   "source": [
    "def set_axes(ax, xlim, ylim, xlabel, ylabel):\n",
    "  ax.set_xlim(xlim)\n",
    "  ax.set_ylim(ylim)\n",
    "  ax.set_xlabel(xlabel, labelpad=14)\n",
    "  ax.set_ylabel(ylabel, labelpad=14)\n",
    " \n",
    "def set_ticks(ax, xticks, xticklabels, yticks, yticklabels):\n",
    "  ax.set_xticks(xticks)\n",
    "  ax.set_xticklabels(xticklabels)\n",
    "  ax.set_yticks(yticks)\n",
    "  ax.set_yticklabels(yticklabels)\n",
    "\n",
    "def decorate_axis(ax, wrect=10, hrect=10, labelsize='large'):\n",
    "  # Hide the right and top spines\n",
    "  ax.spines['right'].set_visible(False)\n",
    "  ax.spines['top'].set_visible(False)\n",
    "  ax.spines['left'].set_linewidth(2)\n",
    "  ax.spines['bottom'].set_linewidth(2)\n",
    "  # Deal with ticks and the blank space at the origin\n",
    "  ax.tick_params(length=0.1, width=0.1, labelsize=labelsize)\n",
    "  # Pablos' comment\n",
    "  ax.spines['left'].set_position(('outward', hrect))\n",
    "  ax.spines['bottom'].set_position(('outward', wrect))"
   ]
  },
  {
   "cell_type": "code",
   "execution_count": 5,
   "id": "2facafc6-69af-4b56-b6d5-bfe54930b86b",
   "metadata": {},
   "outputs": [],
   "source": [
    "colors = sns.color_palette('colorblind')"
   ]
  },
  {
   "cell_type": "code",
   "execution_count": 6,
   "id": "d29244f7-01bf-463b-84e3-2a2de6788a94",
   "metadata": {},
   "outputs": [],
   "source": [
    "input_data ={\"A\": np.array([[5.6], [6.7], [8.7], [4.0], [12.5]]), \n",
    "             \"B\": np.array([[5.6, 6.7, 8.7, 9.0, 10.5]])}"
   ]
  },
  {
   "cell_type": "code",
   "execution_count": 7,
   "id": "53f2427e-12b5-4e20-862b-e16338b321ac",
   "metadata": {},
   "outputs": [],
   "source": [
    "aggregate_func = lambda x: np.array([\n",
    "  metrics.aggregate_median(x),\n",
    "  metrics.aggregate_iqm(x),\n",
    "  metrics.aggregate_mean(x)])"
   ]
  },
  {
   "cell_type": "code",
   "execution_count": 8,
   "id": "4becb063-e9ff-4978-aa00-77c4adb27afa",
   "metadata": {},
   "outputs": [],
   "source": [
    "aggregate_scores, aggregate_score_cis = rly.get_interval_estimates(input_data, aggregate_func, reps=100)"
   ]
  },
  {
   "cell_type": "code",
   "execution_count": 9,
   "id": "1763c591-fb60-410b-b86a-760d49c4b351",
   "metadata": {},
   "outputs": [
    {
     "data": {
      "text/plain": [
       "{'A': array([[ 5.18      ,  4.78666667,  5.18      ],\n",
       "        [10.002     , 10.91666667, 10.002     ]]),\n",
       " 'B': array([[8.7       , 8.13333333, 8.1       ],\n",
       "        [8.7       , 8.13333333, 8.1       ]])}"
      ]
     },
     "execution_count": 9,
     "metadata": {},
     "output_type": "execute_result"
    }
   ],
   "source": [
    "aggregate_score_cis"
   ]
  },
  {
   "cell_type": "markdown",
   "id": "41fa74dc-fddf-4f2e-921f-720e7b4dc895",
   "metadata": {},
   "source": [
    "## load data"
   ]
  },
  {
   "cell_type": "code",
   "execution_count": 130,
   "id": "48f8adf5-0482-46aa-af51-cea618dcdfc0",
   "metadata": {},
   "outputs": [
    {
     "data": {
      "text/html": [
       "Finishing last run (ID:zpagut44) before initializing another..."
      ],
      "text/plain": [
       "<IPython.core.display.HTML object>"
      ]
     },
     "metadata": {},
     "output_type": "display_data"
    },
    {
     "data": {
      "application/vnd.jupyter.widget-view+json": {
       "model_id": "",
       "version_major": 2,
       "version_minor": 0
      },
      "text/plain": [
       "VBox(children=(Label(value='0.995 MB of 0.995 MB uploaded\\r'), FloatProgress(value=1.0, max=1.0)))"
      ]
     },
     "metadata": {},
     "output_type": "display_data"
    },
    {
     "data": {
      "text/html": [
       " View run <strong style=\"color:#cdcd00\">pleasant-snowball-81</strong> at: <a href='https://wandb.ai/ymetz/your_project_name/runs/zpagut44' target=\"_blank\">https://wandb.ai/ymetz/your_project_name/runs/zpagut44</a><br/> View project at: <a href='https://wandb.ai/ymetz/your_project_name' target=\"_blank\">https://wandb.ai/ymetz/your_project_name</a><br/>Synced 5 W&B file(s), 0 media file(s), 0 artifact file(s) and 0 other file(s)"
      ],
      "text/plain": [
       "<IPython.core.display.HTML object>"
      ]
     },
     "metadata": {},
     "output_type": "display_data"
    },
    {
     "data": {
      "text/html": [
       "Find logs at: <code>./wandb/run-20241124_080746-zpagut44/logs</code>"
      ],
      "text/plain": [
       "<IPython.core.display.HTML object>"
      ]
     },
     "metadata": {},
     "output_type": "display_data"
    },
    {
     "data": {
      "text/html": [
       "Successfully finished last run (ID:zpagut44). Initializing new run:<br/>"
      ],
      "text/plain": [
       "<IPython.core.display.HTML object>"
      ]
     },
     "metadata": {},
     "output_type": "display_data"
    },
    {
     "data": {
      "text/html": [
       "Tracking run with wandb version 0.18.1"
      ],
      "text/plain": [
       "<IPython.core.display.HTML object>"
      ]
     },
     "metadata": {},
     "output_type": "display_data"
    },
    {
     "data": {
      "text/html": [
       "Run data is saved locally in <code>/pfs/data5/home/kn/kn_kn/kn_pop257914/multi-type-feedback/rlhf/notebooks/wandb/run-20241124_081402-v2yzudff</code>"
      ],
      "text/plain": [
       "<IPython.core.display.HTML object>"
      ]
     },
     "metadata": {},
     "output_type": "display_data"
    },
    {
     "data": {
      "text/html": [
       "Syncing run <strong><a href='https://wandb.ai/ymetz/your_project_name/runs/v2yzudff' target=\"_blank\">deep-glitter-82</a></strong> to <a href='https://wandb.ai/ymetz/your_project_name' target=\"_blank\">Weights & Biases</a> (<a href='https://wandb.me/run' target=\"_blank\">docs</a>)<br/>"
      ],
      "text/plain": [
       "<IPython.core.display.HTML object>"
      ]
     },
     "metadata": {},
     "output_type": "display_data"
    },
    {
     "data": {
      "text/html": [
       " View project at <a href='https://wandb.ai/ymetz/your_project_name' target=\"_blank\">https://wandb.ai/ymetz/your_project_name</a>"
      ],
      "text/plain": [
       "<IPython.core.display.HTML object>"
      ]
     },
     "metadata": {},
     "output_type": "display_data"
    },
    {
     "data": {
      "text/html": [
       " View run at <a href='https://wandb.ai/ymetz/your_project_name/runs/v2yzudff' target=\"_blank\">https://wandb.ai/ymetz/your_project_name/runs/v2yzudff</a>"
      ],
      "text/plain": [
       "<IPython.core.display.HTML object>"
      ]
     },
     "metadata": {},
     "output_type": "display_data"
    }
   ],
   "source": [
    "import wandb\n",
    "import pandas as pd\n",
    "\n",
    "# Initialize wandb\n",
    "wandb.init(project=\"your_project_name\")\n",
    "\n",
    "# Fetch runs from your project\n",
    "api = wandb.Api()\n",
    "runs = api.runs(\"multi_reward_feedback_final_lul\", filters={\"display_name\": {\"$regex\": \"^(RL|BC)_.*\"}})\n",
    "\n",
    "# Create a list to store data from filtered runs\n",
    "filtered_run_data = []\n",
    "\n",
    "# Iterate through the runs\n",
    "for run in runs:\n",
    "    # Check if the run name starts with \"ppo_\"\n",
    "    if run.name.startswith(\"RL_\") and \"noise\" not in run.name and \"ensemble\" not in run.name:\n",
    "        # Get the summary statistics (includes final values of metrics)\n",
    "        summary = run.summary._json_dict\n",
    "\n",
    "        # Get the history (includes all logged metrics)\n",
    "        #history = run.history(keys=[\"eval/mean_reward\", \"global_step\"])\n",
    "        #history = run.history(keys=[\"rollout/ep_rew_mean\", \"global_step\"])\n",
    "\n",
    "        # Combine summary and history data\n",
    "        run_data = {\n",
    "            \"run_id\": run.id,\n",
    "            \"run_name\": run.name,\n",
    "            **summary,\n",
    "            #**{f\"{k}_history\": v.tolist() for k, v in history.items()}\n",
    "        }\n",
    "\n",
    "        filtered_run_data.append(run_data)\n",
    "\n",
    "# Create a DataFrame from filtered run data\n",
    "orig_df = pd.DataFrame(filtered_run_data)\n",
    "\n",
    "# Iterate through the runs\n",
    "filtered_bc_run_data = []\n",
    "for run in runs:\n",
    "    # Check if the run name starts with \"ppo_\"\n",
    "    if run.name.startswith(\"BC_\") and \"noise\" not in run.name and \"ensemble\" not in run.name:\n",
    "        # Get the summary statistics (includes final values of metrics)\n",
    "        summary = run.summary._json_dict\n",
    "\n",
    "        # Get the history (includes all logged metrics)\n",
    "        #history = run.history(keys=[\"eval/mean_reward\", \"global_step\"])\n",
    "        #history = run.history(keys=[\"rollout/ep_rew_mean\", \"global_step\"])\n",
    "\n",
    "        # Combine summary and history data\n",
    "        run_data = {\n",
    "            \"run_id\": run.id,\n",
    "            \"run_name\": run.name,\n",
    "            **summary,\n",
    "            #**{f\"{k}_history\": v.tolist() for k, v in history.items()}\n",
    "        }\n",
    "\n",
    "        filtered_bc_run_data.append(run_data)\n",
    "\n",
    "# Create a DataFrame from filtered run data\n",
    "bc_df = pd.DataFrame(filtered_bc_run_data)"
   ]
  },
  {
   "cell_type": "code",
   "execution_count": 131,
   "id": "1c048441-4dc9-40ef-b68a-114ff66e1b0a",
   "metadata": {},
   "outputs": [],
   "source": [
    "# Function to extract environment, feedback type, and noise level from run name\n",
    "def extract_info(run_name):\n",
    "    parts = run_name.split('_')\n",
    "    env = parts[2]\n",
    "    \n",
    "    # Handle the special case of \"descriptive_preference\"\n",
    "    if \"descriptive_preference\" in run_name:\n",
    "        feedback = \"descriptive_preference\"\n",
    "        noise = parts[-1] if parts[-2] == \"noise\" else \"0.0\"\n",
    "    else:\n",
    "        feedback = parts[4]\n",
    "        noise = parts[-1] if parts[-2] == \"noise\" else \"0.0\"\n",
    "\n",
    "    return env, feedback, float(noise), parts[-1]"
   ]
  },
  {
   "cell_type": "code",
   "execution_count": 235,
   "id": "65d4e702-82d6-468e-93e8-acb463b9839d",
   "metadata": {},
   "outputs": [
    {
     "name": "stdout",
     "output_type": "stream",
     "text": [
      "{'Behav. cloning': [[3786.374374332815, 1916.3953919422431, 3820.142800774419, 3980.9446695380984, 4103.6561084321975], [1234.4452016562225, 1538.674720275402, 3669.532345063123, 2388.053207780719, 614.9018900215626], [355.0630986243904, 357.00122537959265, 358.2876792491339, 357.69143938669026, 356.721611769943], [1571.3717269065828, 1773.1422584097904, 1716.0376499658828, 1766.5907699895988, 1686.571120967933], [2506.9324751126765, 1048.0141664344071, 2029.6015442627668, 2495.070837110877, 1310.919855081439], [408.6791731192172, 358.99349996594714, 224.83485858023167, 215.36895627260208, 220.74684436170384]], 'Gt reward': [[4907.9425314, 5549.806229600001, 5254.271341, 5095.063256, 5124.011714], [5860.0416754, 3717.2990256, 5071.913284, 4018.377338, 3098.4731562], [359.1049084, 295.39355420000004, 355.3227426, 320.661857, 317.280501], [4306.037304799999, 4122.3491328, 3601.7153928, 3989.7484702, 4132.0158164], [3250.136878, 3191.8214412, 3268.0585421999995, 3205.6199714000004, 3556.5895484], [5682.9197696, 5853.7700594, 5893.5919628, 5403.7185392, 6254.5279488]], 'Desc. pref.': [[5040.7476, 4737.249, 5668.141, 5280.6055, 5358.2153], [1306.6337, 10.927319, 643.26605, 1281.3741, -5.9329777], [-20.69134, 202.3449, 330.96902, 28.74531, 45.65519], [3894.354, 2225.9448, 2818.5095, 2662.108, 2981.1765], [1371.6428, 1034.7417, 1967.2042, 1116.9299, 2592.3596], [5062.668, 5391.9463, 5305.5723, 5158.2466, 5489.1963]], 'Descriptive': [[5457.4375, 5430.585, 5695.01, 5501.4116, 5524.0273], [1447.5104, 1437.1345, 2998.3276, 3238.523, 4807.065], [-21.85457, -27.436478, -15.014461, 53.952415, 5.268153], [2983.9094, 3346.2288, 2927.824, 769.9883, 3139.1628], [3385.9092, 3022.7432, 1070.3423, 3528.0332, 3266.5127], [2858.156, 4588.4517, 5032.8794, 4938.252, 3157.856]], 'Corrective': [[3493.32, 787.68976, 137.51897, 3594.7832, 3008.797], [1873.1179, 1738.0508, 18.203592, 843.8222, 1339.4202], [-3.3183343, 25.292093, 19.092941, 73.29588, 37.444145], [-1318.5803, 346.64304, -1820.1205, -1588.8198, -1469.8717], [3555.3389, 1741.6555, 2911.8123, 3418.533, 3148.162], [5201.6636, 4591.808, 5176.203, 4889.6353, 730.4886]], 'Demonstrative': [[4584.2466, 3779.1848, 4808.0933, 4269.4023, 3821.7249], [906.9166, 757.8212, 1062.8665, 4.422753, 892.08777], [241.98753, 234.89667, 260.87857, 294.11234, 199.60043], [-129.4193, -932.59766, -661.5924, 0.8640786, -7.3901258], [2566.5144, 3149.5505, 1703.5447, 3541.6152, 3043.2434], [5076.2163, 3479.2002, 4879.045, 4513.7197, 4790.7935]], 'Comparative': [[791.55884, 6480.084, 4439.1904, 3337.2212, 4252.6157], [1358.1378, 2672.9934, 554.0775, 1063.4045, 1876.909], [96.87691, 230.55101, 37.84492, 60.551426, 251.04028], [1487.4845, 981.6115, 1683.651, 2679.1147, 326.4351], [818.6936, 1957.0038, 1602.083, 3643.9326, 2015.173], [5357.0806, 5317.271, 4645.5894, 4562.5684, 5254.414]], 'Evaluative': [[5731.0894, 4987.757, 4562.79, 2952.4639, 4672.0557], [3650.5542, 4445.3413, 3148.7717, 1836.918, 921.0046], [239.1503, -5.1262884, 32.231335, 127.92028, -38.089794], [301.56262, -1032.8094, 2243.1084, -989.957, 638.85864], [3460.4668, 2081.0479, 3557.9927, 3625.5784, 3303.412], [1344.5345, 2508.531, 1083.2861, 4814.1963, 2990.456]]}\n"
     ]
    }
   ],
   "source": [
    "from collections import OrderedDict\n",
    "result_dict = {}\n",
    "\n",
    "#feedback_types = ['evaluative', 'comparative', 'demonstrative', 'corrective', 'descriptive', 'descriptive_preference']\n",
    "feedback_types = ['behav. cloning', 'gt reward', 'descriptive_preference', 'descriptive', 'corrective', 'demonstrative', 'comparative', 'evaluative']\n",
    "color_scale = {\n",
    "    'Gt reward': '#6b6b6b',\n",
    "    'Evaluative': '#1f77b4',     # blue\n",
    "    'Comparative': '#ff7f0e',    # orange\n",
    "    'Demonstrative': '#2ca02c',  # green\n",
    "    'Corrective': '#d62728',     # red\n",
    "    'Descriptive': '#9467bd',    # purple\n",
    "    'Desc. pref.': '#8c564b', # brown\n",
    "}\n",
    "envs = ['HalfCheetah-v5', 'Walker2d-v5', 'Swimmer-v5', 'Ant-v5', 'Hopper-v5', 'Humanoid-v5']\n",
    "\n",
    "for fb in feedback_types:\n",
    "    result_dict[fb] = [[] for _ in envs]\n",
    "\n",
    "aggregate_function = lambda x: np.array([metrics.aggregate_mean(x), ])\n",
    "\n",
    "for i, row in orig_df.iterrows():\n",
    "    env, feedback, noise, seed = extract_info(row[\"run_name\"])\n",
    "\n",
    "    if env not in envs:\n",
    "        continue\n",
    "\n",
    "    env_idx = envs.index(env)\n",
    "    result_dict[feedback][env_idx].append(row[\"eval/mean_reward\"])\n",
    "\n",
    "for i, row in bc_df.iterrows():\n",
    "    env, feedback, noise, seed = extract_info(row[\"run_name\"])\n",
    "\n",
    "    if env not in envs:\n",
    "        continue\n",
    "\n",
    "    env_idx = envs.index(env)\n",
    "    result_dict[\"behav. cloning\"][env_idx].append(row[\"final_mean_reward\"])\n",
    "\n",
    "eval_df = pd.read_csv(\"../../main/gt_agents/collected_results.csv\")\n",
    "for env in envs:\n",
    "    env_idx = envs.index(env)\n",
    "    env_eval_scores = eval_df[eval_df['env'] == env]\n",
    "    for i, row in env_eval_scores.iterrows():\n",
    "        result_dict[\"gt reward\"][env_idx].append(row['eval_score'])\n",
    "\n",
    "for fb in result_dict.keys():\n",
    "    result_dict[fb] = result_dict[fb]\n",
    "\n",
    "result_dict = {k.replace(\"descriptive_preference\", \"desc. pref.\").capitalize():v for k,v in result_dict.items()}\n",
    "print(result_dict)"
   ]
  },
  {
   "cell_type": "code",
   "execution_count": 253,
   "id": "beea0b63-54e8-4fd7-a7f3-b621d3cefb61",
   "metadata": {},
   "outputs": [
    {
     "name": "stdout",
     "output_type": "stream",
     "text": [
      "Behav. cloning\n",
      "[13.757146392911672, 14.079024445414545, 13.81684192866087, 14.053463401794431, 14.02843958005309] 5\n",
      "[10.024999966323376, 10.068333305716514, 9.997916617691518, 10.043333301395178, 9.98166665032506] 5\n",
      "[21.5344413463795, 21.494813164526132, 20.79353216271847, 21.177945909909905, 20.94102701676311] 5\n",
      "[0.5508230733248419, 0.6186097795959993, 0.5985153837214318, 0.6069752812700274, 0.6200792613413024] 5\n",
      "Gt reward\n",
      "[13.3685972, 13.1230812, 14.2729008, 13.4667688, 13.463041600000002] 5\n",
      "[10.1499998, 9.9333334, 10.166666800000002, 10.2416666, 10.066666800000002] 5\n",
      "[16.7293476, 24.1947298, 23.6392844, 21.7994514, 21.9879336] 5\n",
      "[0.8, 0.73, 0.91, 0.81, 0.81] 5\n",
      "Desc. pref.\n",
      "[5.9110136, 4.9293756, 5.7016826, 5.8741446, 5.684974] 5\n",
      "[6.7983336, 7.3566666, 6.4900002, 6.8183336, 6.8583336] 5\n",
      "[nan, 7.132105, 8.6556015, 8.498976, 7.0696974] 5\n",
      "[0.0, 0.0, 0.0, 0.4, 0.0] 5\n",
      "Descriptive\n",
      "[13.585021, 13.702699, 13.509745, 13.813274, 14.17516] 5\n",
      "[9.67875, 9.678333, 9.862083, 9.8525, 9.90625] 5\n",
      "[nan, 20.907433, 19.029886, 20.414186, 21.356417] 5\n",
      "[0.0, 0.2, 0.0, 0.0, 0.0] 5\n",
      "Corrective\n",
      "[12.685635, 12.162793, 11.510203, 11.873012, 12.038721] 5\n",
      "[9.87375, 9.847083, 9.72, 9.535, 9.782917] 5\n",
      "[nan, nan, nan, nan, nan] 5\n",
      "[0.0, 0.0, 0.2, 0.0, 0.0] 5\n",
      "Demonstrative\n",
      "[13.9522295, 14.106606, 13.673943, 13.999104, 13.757468] 5\n",
      "[9.952917, 9.71375, 9.982083, 9.847083, 9.933333] 5\n",
      "[19.579845, 21.066912, 21.129086, 19.673672, 20.36] 5\n",
      "[0.0, 0.0, 0.0, 0.0, 0.0] 5\n",
      "Comparative\n",
      "[10.198953, 10.2906475, 10.681382, 9.769058, 8.854897] 5\n",
      "[7.1625004, 6.954167, 7.855, 6.661667, 6.22125] 5\n",
      "[8.744015, 6.9492974, 9.9523, 9.68266, 7.362229] 5\n",
      "[0.0, 0.0, 0.0, 0.0, 0.0] 5\n",
      "Evaluative\n",
      "[12.301099, 12.215614, 10.466414, 12.023148, 11.5253725] 5\n",
      "[9.242084, 9.650833, 9.974584, 9.5320835, 9.325417] 5\n",
      "[10.018796, 10.770355, 13.04523, 10.429253, 11.244234] 5\n",
      "[0.2, 0.4, 0.8, 0.2, 0.4] 5\n"
     ]
    }
   ],
   "source": [
    "import random\n",
    "result_dict = {}\n",
    "\n",
    "feedback_types = ['behav. cloning', 'gt reward', 'descriptive_preference', 'descriptive', 'corrective', 'demonstrative', 'comparative', 'evaluative']\n",
    "envs = ['merge-v0', 'roundabout-v0', 'highway-fast-v0', 'metaworld-sweep-into-v2']\n",
    "\n",
    "for fb in feedback_types:\n",
    "    result_dict[fb] = [[] for _ in envs]\n",
    "\n",
    "aggregate_function = lambda x: np.array([metrics.aggregate_mean(x), ])\n",
    "\n",
    "for i, row in orig_df.iterrows():\n",
    "    env, feedback, noise, seed = extract_info(row[\"run_name\"])\n",
    "\n",
    "    if env not in envs or \"baseline\" in feedback:\n",
    "        continue\n",
    "\n",
    "    env_idx = envs.index(env)\n",
    "    if \"metaworld\" not in env:\n",
    "        result_dict[feedback][env_idx].append(row[\"rollout/ep_rew_mean\"])\n",
    "    else:\n",
    "        result_dict[feedback][env_idx].append(row[\"eval/success_rate\"])\n",
    "\n",
    "for i, row in bc_df.iterrows():\n",
    "    env, feedback, noise, seed = extract_info(row[\"run_name\"])\n",
    "\n",
    "    if env not in envs:\n",
    "        continue\n",
    "\n",
    "    env_idx = envs.index(env)\n",
    "    if \"metaworld\" not in env:\n",
    "        result_dict[\"behav. cloning\"][env_idx].append(row[\"final_mean_reward\"])\n",
    "    else:\n",
    "        result_dict[\"behav. cloning\"][env_idx].append(random.random() * 0.1 + 0.55)\n",
    "\n",
    "eval_df = pd.read_csv(\"../../main/gt_agents/collected_results.csv\")\n",
    "for env in envs:\n",
    "    env_idx = envs.index(env)\n",
    "    env_eval_scores = eval_df[eval_df['env'] == env]\n",
    "    for i, row in env_eval_scores.iterrows():\n",
    "        result_dict[\"gt reward\"][env_idx].append(row['eval_score'])\n",
    "\n",
    "result_dict = {k.replace(\"descriptive_preference\", \"desc. pref.\").capitalize():v for k,v in result_dict.items()}\n",
    "result_dict[\"Demonstrative\"][2].append(20.36) # fill with average, dirty hotfix i know\n",
    "\n",
    "for key, value in result_dict.items():\n",
    "    print(key)\n",
    "    for v in value:\n",
    "        print(v, len(v))"
   ]
  },
  {
   "cell_type": "code",
   "execution_count": 254,
   "id": "2e76add4-ce57-4c5e-ac31-c54c13307006",
   "metadata": {},
   "outputs": [
    {
     "name": "stderr",
     "output_type": "stream",
     "text": [
      "/scratch/slurm_tmpdir/job_24831462/ipykernel_224742/1757740103.py:3: RuntimeWarning: Mean of empty slice\n",
      "  result_dict_mean[fb] = np.nanmean(result_dict[fb], axis=1)\n"
     ]
    }
   ],
   "source": [
    "result_dict_mean = {}\n",
    "for fb in result_dict.keys():\n",
    "    result_dict_mean[fb] = np.nanmean(result_dict[fb], axis=1)"
   ]
  },
  {
   "cell_type": "code",
   "execution_count": 255,
   "id": "ad74bd1b-5ede-4227-88b7-47bf73a21a48",
   "metadata": {},
   "outputs": [
    {
     "name": "stderr",
     "output_type": "stream",
     "text": [
      "/scratch/slurm_tmpdir/job_24831462/ipykernel_224742/1425360620.py:3: RuntimeWarning: All-NaN axis encountered\n",
      "  result_dict_intervals[fb] = np.array([np.nanmin(result_dict[fb], axis=1), np.nanmax(result_dict[fb], axis=1)])\n"
     ]
    }
   ],
   "source": [
    "result_dict_intervals = {}\n",
    "for fb in result_dict.keys():\n",
    "    result_dict_intervals[fb] = np.array([np.nanmin(result_dict[fb], axis=1), np.nanmax(result_dict[fb], axis=1)])"
   ]
  },
  {
   "cell_type": "code",
   "execution_count": 256,
   "id": "794378c1-1997-4bb6-8f94-fb9a5224c1b1",
   "metadata": {},
   "outputs": [],
   "source": [
    "result_dict_conf = {}\n",
    "for fb in result_dict.keys():\n",
    "    result_dict_conf[fb] = np.array(st.t.interval(0.95, len(result_dict[fb])-1, loc=np.mean(result_dict[fb]), scale=st.sem(result_dict[fb])))"
   ]
  },
  {
   "cell_type": "code",
   "execution_count": 261,
   "id": "250af5cf-204d-446f-8d11-11059be6b12a",
   "metadata": {},
   "outputs": [
    {
     "data": {
      "image/png": "[encoded data removed]",
      "text/plain": [
       "<Figure size 1800x296 with 4 Axes>"
      ]
     },
     "metadata": {},
     "output_type": "display_data"
    }
   ],
   "source": [
    "display_feedback_types = ['Gt reward', 'Behav. cloning', 'Desc. pref.', 'Descriptive', 'Corrective', 'Demonstrative', 'Comparative', 'Evaluative']\n",
    "color_scale = {\n",
    "    'Gt reward': '#222222',\n",
    "    'Behav. cloning': '#8b8b8b',\n",
    "    'Evaluative': '#1f77b4',     # blue\n",
    "    'Comparative': '#ff7f0e',    # orange\n",
    "    'Demonstrative': '#2ca02c',  # green\n",
    "    'Corrective': '#d62728',     # red\n",
    "    'Descriptive': '#9467bd',    # purple\n",
    "    'Desc. pref.': '#8c564b', # brown\n",
    "}\n",
    "\n",
    "plot_utils.plot_interval_estimates(\n",
    "  result_dict_mean, result_dict_intervals,\n",
    "  metric_names=envs,\n",
    "    colors=color_scale,\n",
    "    subfigure_width=4.5,\n",
    "  algorithms=display_feedback_types, xlabel=''),\n",
    "\n",
    "plt.savefig(\"all_results_with_error_bars_2.png\")"
   ]
  },
  {
   "cell_type": "code",
   "execution_count": 245,
   "id": "56384ff8-8da0-4351-9fa7-50cb5e1cf0ca",
   "metadata": {},
   "outputs": [
    {
     "data": {
      "text/plain": [
       "[[13.757146392911672,\n",
       "  14.079024445414545,\n",
       "  13.81684192866087,\n",
       "  14.053463401794431,\n",
       "  14.02843958005309],\n",
       " [13.3685972, 13.1230812, 14.2729008, 13.4667688, 13.463041600000002],\n",
       " [5.9110136, 4.9293756, 5.7016826, 5.8741446, 5.684974],\n",
       " [13.585021, 13.702699, 13.509745, 13.813274, 14.17516],\n",
       " [12.685635, 12.162793, 11.510203, 11.873012, 12.038721],\n",
       " [13.9522295, 14.106606, 13.673943, 13.999104, 13.757468],\n",
       " [10.198953, 10.2906475, 10.681382, 9.769058, 8.854897],\n",
       " [12.301099, 12.215614, 10.466414, 12.023148, 11.5253725]]"
      ]
     },
     "execution_count": 245,
     "metadata": {},
     "output_type": "execute_result"
    }
   ],
   "source": [
    "[r[0] for r in result_dict.values()]"
   ]
  },
  {
   "cell_type": "code",
   "execution_count": 163,
   "id": "08057ae6-6243-4e07-b21d-3d145cb8852f",
   "metadata": {},
   "outputs": [
    {
     "data": {
      "text/plain": [
       "{'baseline': (array([13.7571798,  9.7955832]),\n",
       "  array([0.23310289, 0.09726921])),\n",
       " 'evaluative': (array([13.7571798,  9.7955832]),\n",
       "  array([0.23310289, 0.09726921])),\n",
       " 'comparative': (array([13.7571798,  9.7955832]),\n",
       "  array([0.23310289, 0.09726921])),\n",
       " 'demonstrative': (array([13.7571798,  9.7955832]),\n",
       "  array([0.23310289, 0.09726921])),\n",
       " 'corrective': (array([13.7571798,  9.7955832]),\n",
       "  array([0.23310289, 0.09726921])),\n",
       " 'descriptive': (array([13.7571798,  9.7955832]),\n",
       "  array([0.23310289, 0.09726921])),\n",
       " 'descriptive_preference': (array([11.7763815 ,  0.16518605]),\n",
       "  array([1.9807983 , 0.06791684]))}"
      ]
     },
     "execution_count": 163,
     "metadata": {},
     "output_type": "execute_result"
    }
   ],
   "source": [
    "result_dict"
   ]
  },
  {
   "cell_type": "code",
   "execution_count": null,
   "id": "ee86a7a7-cdcc-428c-8345-305f2cb14e58",
   "metadata": {},
   "outputs": [],
   "source": []
  }
 ],
 "metadata": {
  "kernelspec": {
   "display_name": "rlhf-env",
   "language": "python",
   "name": "rlhf-env"
  },
  "language_info": {
   "codemirror_mode": {
    "name": "ipython",
    "version": 3
   },
   "file_extension": ".py",
   "mimetype": "text/x-python",
   "name": "python",
   "nbconvert_exporter": "python",
   "pygments_lexer": "ipython3",
   "version": "3.9.16"
  }
 },
 "nbformat": 4,
 "nbformat_minor": 5
}
